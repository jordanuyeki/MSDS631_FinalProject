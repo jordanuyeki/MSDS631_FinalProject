{
 "cells": [
  {
   "cell_type": "markdown",
   "metadata": {},
   "source": [
    "# MSDS 631 Final Project\n",
    "## Mask Classification"
   ]
  },
  {
   "cell_type": "code",
   "execution_count": 32,
   "execution_count": 1,
   "metadata": {},
   "outputs": [],
   "source": [
    "import os\n",
    "import cv2\n",
    "import time\n",
    "import numpy as np\n",
    "import pandas as pd\n",
    "import matplotlib.pyplot as plt\n",
    "\n",
    "import torch\n",
    "from torchsummary import summary\n",
    "from torch.utils.data import Dataset, DataLoader\n",
    "import torch.nn as nn\n",
    "import torch.optim as optim\n",
    "\n",
    "# data augmentation\n",
    "import albumentations as A\n",
    "from albumentations.pytorch import ToTensorV2\n",
    "\n",
    "# model architecture\n",
    "import torchvision\n",
    "from torchvision import models, transforms"
   ]
  },
  {
   "cell_type": "markdown",
   "metadata": {},
   "source": [
    "### Creating data info dataframe"
   ]
  },
  {
   "cell_type": "code",
   "execution_count": 2,
   "metadata": {},
   "outputs": [
    {
     "data": {
      "text/html": [
       "<div>\n",
       "<style scoped>\n",
       "    .dataframe tbody tr th:only-of-type {\n",
       "        vertical-align: middle;\n",
       "    }\n",
       "\n",
       "    .dataframe tbody tr th {\n",
       "        vertical-align: top;\n",
       "    }\n",
       "\n",
       "    .dataframe thead th {\n",
       "        text-align: right;\n",
       "    }\n",
       "</style>\n",
       "<table border=\"1\" class=\"dataframe\">\n",
       "  <thead>\n",
       "    <tr style=\"text-align: right;\">\n",
       "      <th></th>\n",
       "      <th>dataset</th>\n",
       "      <th>image_path</th>\n",
       "      <th>image</th>\n",
       "      <th>label</th>\n",
       "    </tr>\n",
       "  </thead>\n",
       "  <tbody>\n",
       "    <tr>\n",
       "      <th>0</th>\n",
       "      <td>train</td>\n",
       "      <td>/Users/matthewhui/classes/deep_learning/MSDS63...</td>\n",
       "      <td>1409.jpg</td>\n",
       "      <td>mask</td>\n",
       "    </tr>\n",
       "    <tr>\n",
       "      <th>1</th>\n",
       "      <td>train</td>\n",
       "      <td>/Users/matthewhui/classes/deep_learning/MSDS63...</td>\n",
       "      <td>0515.png</td>\n",
       "      <td>mask</td>\n",
       "    </tr>\n",
       "    <tr>\n",
       "      <th>2</th>\n",
       "      <td>train</td>\n",
       "      <td>/Users/matthewhui/classes/deep_learning/MSDS63...</td>\n",
       "      <td>0930.jpg</td>\n",
       "      <td>mask</td>\n",
       "    </tr>\n",
       "    <tr>\n",
       "      <th>3</th>\n",
       "      <td>train</td>\n",
       "      <td>/Users/matthewhui/classes/deep_learning/MSDS63...</td>\n",
       "      <td>0273.jpg</td>\n",
       "      <td>mask</td>\n",
       "    </tr>\n",
       "    <tr>\n",
       "      <th>4</th>\n",
       "      <td>train</td>\n",
       "      <td>/Users/matthewhui/classes/deep_learning/MSDS63...</td>\n",
       "      <td>0267.jpg</td>\n",
       "      <td>mask</td>\n",
       "    </tr>\n",
       "  </tbody>\n",
       "</table>\n",
       "</div>"
      ],
      "text/plain": [
       "  dataset                                         image_path     image label\n",
       "0   train  /Users/matthewhui/classes/deep_learning/MSDS63...  1409.jpg  mask\n",
       "1   train  /Users/matthewhui/classes/deep_learning/MSDS63...  0515.png  mask\n",
       "2   train  /Users/matthewhui/classes/deep_learning/MSDS63...  0930.jpg  mask\n",
       "3   train  /Users/matthewhui/classes/deep_learning/MSDS63...  0273.jpg  mask\n",
       "4   train  /Users/matthewhui/classes/deep_learning/MSDS63...  0267.jpg  mask"
      ]
     },
     "execution_count": 2,
     "metadata": {},
     "output_type": "execute_result"
    }
   ],
   "source": [
    "path = '/Users/matthewhui/classes/deep_learning/MSDS631_FinalProject/New Masks Dataset'\n",
    "\n",
    "def get_info(path, info, label, dataset):\n",
    "    \"\"\"Get info of all images in specified path\"\"\"\n",
    "    for img in os.listdir(path):\n",
    "        row = {} \n",
    "        row['dataset'] = dataset\n",
    "        row['image_path'] = f'{path}/{img}'\n",
    "        row['image'] = img\n",
    "        row['label'] = label\n",
    "        info.append(row)\n",
    "    return info \n",
    "\n",
    "info = [] \n",
    "info = get_info(f'{path}/Train/Mask', info, 'mask', 'train')\n",
    "info = get_info(f'{path}/Train/Non Mask', info, 'no mask', 'train')\n",
    "info = get_info(f'{path}/Validation/Mask', info, 'mask', 'valid')\n",
    "info = get_info(f'{path}/Validation/Non Mask', info, 'no mask', 'valid')\n",
    "info = get_info(f'{path}/Test/Mask', info, 'mask', 'test')\n",
    "info = get_info(f'{path}/Test/Non Mask', info, 'no mask', 'test')\n",
    "info_df = pd.DataFrame(info)\n",
    "# Save dataframe\n",
    "info_df.to_csv('/Users/matthewhui/classes/deep_learning/MSDS631_FinalProject/New Masks Dataset/data_info.csv', index=False)\n",
    "info_df.head()"
   ]
  },
  {
   "cell_type": "markdown",
   "metadata": {},
   "source": [
    "### Preprocess Images (Resize)"
   ]
  },
  {
   "cell_type": "code",
   "execution_count": 49,
   "metadata": {},
   "outputs": [],
   "source": [
    "for img_path in info_df.image_path: \n",
    "    img = cv2.imread(img_path)\n",
    "    img = cv2.resize(img, (128, 128))\n",
    "    cv2.imwrite(img_path, img)"
   ]
  },
  {
   "cell_type": "markdown",
   "metadata": {},
   "source": [
    "### Creating Dataset Class"
   ]
  },
  {
   "cell_type": "code",
   "execution_count": 50,
   "metadata": {},
   "outputs": [],
   "source": [
    "class MaskDataset(Dataset):\n",
    "    def __init__(self, df): \n",
    "        self.df = df \n",
    "        self.mask_dict = {'no mask': 0, 'mask': 1}\n",
    "        self.transformations = A.Compose([\n",
    "            # Spatial Transformations \n",
    "            A.HorizontalFlip(),\n",
    "            A.VerticalFlip(), \n",
    "            A.Rotate(limit=10, border_mode=cv2.BORDER_CONSTANT, value=0, p=0.75),\n",
    "            \n",
    "            # Pixel Transformations\n",
    "            A.RandomBrightnessContrast(p=0.5),\n",
    "            \n",
    "            ToTensorV2()   \n",
    "        ])\n",
    "        \n",
    "    def __len__(self):\n",
    "        return len(self.df)\n",
    "    \n",
    "    def __getitem__(self, idx):\n",
    "        row = self.df.iloc[idx]\n",
    "        \n",
    "        # Read in Image and Convert/Transform\n",
    "        img = cv2.imread(row.image_path)\n",
    "        img = cv2.cvtColor(img, cv2.COLOR_BGR2RGB)\n",
    "                \n",
    "        img_transform = self.transformations(image=img.astype(np.uint8))\n",
    "        img_transform = img_transform['image']\n",
    "        img_transform = torch.tensor(img_transform / 255.).float()\n",
    "        \n",
    "        label = torch.tensor(self.mask_dict[row.label])\n",
    "        \n",
    "        return img_transform, label\n",
    "        "
   ]
  },
  {
   "cell_type": "code",
   "execution_count": 51,
   "metadata": {},
   "outputs": [],
   "source": [
    "# Creating Training/Validation Datasets and DataLoaders \n",
    "train_df = info_df[info_df['dataset'] == 'train'].reset_index(drop=True)\n",
    "valid_df = info_df[info_df['dataset'] == 'valid'].reset_index(drop=True)\n",
    "\n",
    "train_ds = MaskDataset(train_df)\n",
    "valid_ds = MaskDataset(valid_df)\n",
    "\n",
    "train_dl = DataLoader(train_ds, batch_size=10, shuffle=True)\n",
    "valid_dl = DataLoader(valid_ds, batch_size=10, shuffle=True)"
   ]
  },
  {
   "cell_type": "code",
   "execution_count": 52,
   "metadata": {},
   "outputs": [
    {
     "name": "stdout",
     "output_type": "stream",
     "text": [
      "Dataset image dimensions: torch.Size([3, 128, 128])\n",
      "After transformation image dimensions: (128, 128, 3)\n"
     ]
    },
    {
     "name": "stderr",
     "output_type": "stream",
     "text": [
      "<ipython-input-50-bf271bb8d9ef>:29: UserWarning: To copy construct from a tensor, it is recommended to use sourceTensor.clone().detach() or sourceTensor.clone().detach().requires_grad_(True), rather than torch.tensor(sourceTensor).\n",
      "  img_transform = torch.tensor(img_transform / 255.).float()\n"
     ]
    },
    {
     "data": {
      "text/plain": [
       "(-0.5, 127.5, 127.5, -0.5)"
      ]
     },
     "execution_count": 52,
     "metadata": {},
     "output_type": "execute_result"
    },
    {
     "data": {
      "text/plain": [
       "<Figure size 432x288 with 1 Axes>"
      ]
     },
     "metadata": {
      "needs_background": "light"
     },
     "output_type": "display_data"
    }
   ],
   "source": [
    "# Test the Dataset class is working properly \n",
    "img, label = next(iter(train_ds))\n",
    "print(f'Dataset image dimensions: {img.shape}')\n",
    "img = np.transpose(np.array(img), (1,2,0))\n",
    "print(f'After transformation image dimensions: {img.shape}')\n",
    "plt.imshow(img)\n",
    "plt.title(label) # 1: mask, 0: no mask\n",
    "plt.axis('off')"
   ]
  },
  {
   "cell_type": "markdown",
   "metadata": {},
   "source": [
    "### Fitting Models\n",
    "* CNN (from Scratch) \n",
    "* AlexNet (frozen / finetuned)\n",
    "* ResNet "
   ]
  },
  {
   "cell_type": "code",
   "execution_count": 53,
   "metadata": {},
   "outputs": [],
   "source": [
    "def one_pass(model, dataloader, optimizer, lossFun, backwards=True, print_loss=False):\n",
    "    \n",
    "    if backwards == True:\n",
    "        model.train()\n",
    "    else:\n",
    "        model.eval()\n",
    "    \n",
    "    total_loss = 0.0\n",
    "    for x, y in dataloader:\n",
    "        \n",
    "        y_pred = model(x)\n",
    "        loss = lossFun(y_pred, y)\n",
    "        total_loss += loss.item()\n",
    "        \n",
    "        if backwards == True:\n",
    "            optimizer.zero_grad()\n",
    "            loss.backward()\n",
    "            optimizer.step()\n",
    "    avg_loss = total_loss / len(dataloader)\n",
    "    \n",
    "    if print_loss == True:\n",
    "        print(avg_loss)\n",
    "    \n",
    "    return avg_loss\n",
    "\n",
    "def one_pass_acc(model, dataloader, num_points):\n",
    "    model.eval()\n",
    "    total_incorrect = 0\n",
    "    \n",
    "    softmax = nn.LogSoftmax(dim=1)\n",
    "    \n",
    "    for x, y in dataloader:\n",
    "        y_pred = softmax(model(x))\n",
    "        y_pred = torch.argmax(y_pred, dim=1)\n",
    "        \n",
    "        total_incorrect += torch.count_nonzero(y - y_pred).item()\n",
    "        \n",
    "    percent_wrong = total_incorrect / num_points\n",
    "    return 1 - percent_wrong"
   ]
  },
  {
   "cell_type": "markdown",
   "metadata": {},
   "source": [
    "#### Convolutional Neural Network (CNN)"
   ]
  },
  {
   "cell_type": "code",
   "execution_count": 54,
   "metadata": {},
   "outputs": [],
   "source": [
    "class MaskCNN(nn.Module):\n",
    "    def __init__(self):\n",
    "        super().__init__()\n",
    "        self.conv1 = nn.Conv2d(in_channels=3, out_channels=8, kernel_size=3, padding=1)\n",
    "        self.conv2 = nn.Conv2d(in_channels=8, out_channels=16, kernel_size=3, padding=1)\n",
    "        self.conv3 = nn.Conv2d(in_channels=16, out_channels=32, kernel_size=3, padding=1)\n",
    "        self.conv4 = nn.Conv2d(in_channels=32, out_channels=64, kernel_size=3, padding=1)\n",
    "        \n",
    "        self.linear1 = nn.Linear(4096, 100)\n",
    "        self.linear2 = nn.Linear(100, 2) # 2 output classes\n",
    "        \n",
    "        self.pool = nn.MaxPool2d(kernel_size=2)\n",
    "        \n",
    "        self.relu = nn.ReLU()\n",
    "        \n",
    "        self.unroll = nn.Flatten()\n",
    "        \n",
    "    def forward(self, x):\n",
    "        x = self.conv1(x)\n",
    "        x = self.relu(x)\n",
    "        x = self.pool(x)\n",
    "        \n",
    "        x = self.conv2(x)\n",
    "        x = self.relu(x)\n",
    "        x = self.pool(x)\n",
    "        \n",
    "        x = self.conv3(x)\n",
    "        x = self.relu(x)\n",
    "        x = self.pool(x)\n",
    "        \n",
    "        x = self.conv4(x)\n",
    "        x = self.relu(x)\n",
    "        x = self.pool(x)\n",
    "        \n",
    "        x = self.relu(self.linear1(self.unroll(x)))\n",
    "        x = self.linear2(x)\n",
    "        return x"
   ]
  },
  {
   "cell_type": "code",
   "execution_count": 55,
   "metadata": {},
   "outputs": [],
   "source": [
    "model = MaskCNN()\n",
    "lossFun = nn.CrossEntropyLoss()\n",
    "optimizer = optim.Adam(model.parameters(), lr = 0.001)"
   ]
  },
  {
   "cell_type": "code",
   "execution_count": 56,
   "metadata": {},
   "outputs": [
    {
     "name": "stdout",
     "output_type": "stream",
     "text": [
      "----------------------------------------------------------------\n",
      "        Layer (type)               Output Shape         Param #\n",
      "================================================================\n",
      "            Conv2d-1          [-1, 8, 128, 128]             224\n",
      "              ReLU-2          [-1, 8, 128, 128]               0\n",
      "         MaxPool2d-3            [-1, 8, 64, 64]               0\n",
      "            Conv2d-4           [-1, 16, 64, 64]           1,168\n",
      "              ReLU-5           [-1, 16, 64, 64]               0\n",
      "         MaxPool2d-6           [-1, 16, 32, 32]               0\n",
      "            Conv2d-7           [-1, 32, 32, 32]           4,640\n",
      "              ReLU-8           [-1, 32, 32, 32]               0\n",
      "         MaxPool2d-9           [-1, 32, 16, 16]               0\n",
      "           Conv2d-10           [-1, 64, 16, 16]          18,496\n",
      "             ReLU-11           [-1, 64, 16, 16]               0\n",
      "        MaxPool2d-12             [-1, 64, 8, 8]               0\n",
      "          Flatten-13                 [-1, 4096]               0\n",
      "           Linear-14                  [-1, 100]         409,700\n",
      "             ReLU-15                  [-1, 100]               0\n",
      "           Linear-16                    [-1, 2]             202\n",
      "================================================================\n",
      "Total params: 434,430\n",
      "Trainable params: 434,430\n",
      "Non-trainable params: 0\n",
      "----------------------------------------------------------------\n",
      "Input size (MB): 0.19\n",
      "Forward/backward pass size (MB): 4.25\n",
      "Params size (MB): 1.66\n",
      "Estimated Total Size (MB): 6.10\n",
      "----------------------------------------------------------------\n"
     ]
    }
   ],
   "source": [
    "summary(model, input_size = (3, 128, 128), device='cpu')"
   ]
  },
  {
   "cell_type": "code",
   "execution_count": 57,
   "metadata": {},
   "outputs": [
    {
     "name": "stdout",
     "output_type": "stream",
     "text": [
      "Epoch: 0\n"
     ]
    },
    {
     "name": "stderr",
     "output_type": "stream",
     "text": [
      "<ipython-input-50-bf271bb8d9ef>:29: UserWarning: To copy construct from a tensor, it is recommended to use sourceTensor.clone().detach() or sourceTensor.clone().detach().requires_grad_(True), rather than torch.tensor(sourceTensor).\n",
      "  img_transform = torch.tensor(img_transform / 255.).float()\n"
     ]
    },
    {
     "name": "stdout",
     "output_type": "stream",
     "text": [
      "Train loss: 0.6982437034447988\n",
      "Valid loss: 0.6883447977804369\n",
      "Train Acc: 0.7150000000000001\n",
      "Valid Acc: 0.5686274509803921\n",
      "Epoch: 1\n",
      "Train loss: 0.5074922493348519\n",
      "Valid loss: 0.4168616107875301\n",
      "Train Acc: 0.8433333333333333\n",
      "Valid Acc: 0.8104575163398693\n",
      "Epoch: 2\n",
      "Train loss: 0.42728292358418307\n",
      "Valid loss: 0.39564332317921425\n",
      "Train Acc: 0.89\n",
      "Valid Acc: 0.8202614379084967\n",
      "Epoch: 3\n",
      "Train loss: 0.3372846701492866\n",
      "Valid loss: 0.4214433945955769\n",
      "Train Acc: 0.8366666666666667\n",
      "Valid Acc: 0.7777777777777778\n",
      "Epoch: 4\n",
      "Train loss: 0.3298184867327412\n",
      "Valid loss: 0.34366576517781905\n",
      "Train Acc: 0.89\n",
      "Valid Acc: 0.8790849673202614\n"
     ]
    }
   ],
   "source": [
    "# Train and Validate Model for 5 epochs\n",
    "train_losses = []\n",
    "valid_losses = []\n",
    "\n",
    "for epoch in range(5):\n",
    "    print(f'Epoch: {epoch}')\n",
    "    \n",
    "    train_loss = one_pass(model, train_dl, optimizer, lossFun)\n",
    "    train_losses.append(train_loss)\n",
    "    print(f'Train loss: {train_loss}')\n",
    "    \n",
    "    valid_loss = one_pass(model, valid_dl, optimizer, lossFun, backwards=False)\n",
    "    valid_losses.append(valid_loss)\n",
    "    print(f'Valid loss: {valid_loss}')\n",
    "    \n",
    "    train_acc = one_pass_acc(model, train_dl, len(train_ds))\n",
    "    valid_acc = one_pass_acc(model, valid_dl, len(valid_ds))\n",
    "    print(f'Train Acc: {train_acc}')\n",
    "    print(f'Valid Acc: {valid_acc}')"
   ]
  },
  {
   "cell_type": "code",
   "execution_count": 13,
   "metadata": {},
   "outputs": [],
   "source": [
    "model = MaskCNN()\n",
    "lossFun = nn.CrossEntropyLoss()\n",
    "optimizer = optim.Adam(model.parameters(), lr = 0.01)"
   ]
  },
  {
   "cell_type": "code",
   "execution_count": 14,
   "metadata": {},
   "outputs": [
    {
     "name": "stdout",
     "output_type": "stream",
     "text": [
      "Epoch: 0\n"
     ]
    },
    {
     "name": "stderr",
     "output_type": "stream",
     "text": [
      "<ipython-input-4-bf271bb8d9ef>:29: UserWarning: To copy construct from a tensor, it is recommended to use sourceTensor.clone().detach() or sourceTensor.clone().detach().requires_grad_(True), rather than torch.tensor(sourceTensor).\n",
      "  img_transform = torch.tensor(img_transform / 255.).float()\n"
     ]
    },
    {
     "name": "stdout",
     "output_type": "stream",
     "text": [
      "Train loss: 0.7058971136808395\n",
      "Valid loss: 0.693325602239178\n",
      "Train Acc: 0.5\n",
      "Valid Acc: 0.5\n",
      "Epoch: 1\n",
      "Train loss: 0.6939193606376648\n",
      "Valid loss: 0.6932881474494934\n",
      "Train Acc: 0.5\n",
      "Valid Acc: 0.5\n",
      "Epoch: 2\n",
      "Train loss: 0.6940103421608607\n",
      "Valid loss: 0.6931472959056977\n",
      "Train Acc: 0.5\n",
      "Valid Acc: 0.5\n",
      "Epoch: 3\n",
      "Train loss: 0.6943924069404602\n",
      "Valid loss: 0.6931933472233434\n",
      "Train Acc: 0.5\n",
      "Valid Acc: 0.5\n",
      "Epoch: 4\n",
      "Train loss: 0.6942057410875956\n",
      "Valid loss: 0.693152658400997\n",
      "Train Acc: 0.5\n",
      "Valid Acc: 0.5\n"
     ]
    }
   ],
   "source": [
    "# Train and Validate Model for 5 epochs\n",
    "train_losses = []\n",
    "valid_losses = []\n",
    "\n",
    "for epoch in range(5):\n",
    "    print(f'Epoch: {epoch}')\n",
    "    \n",
    "    train_loss = one_pass(model, train_dl, optimizer, lossFun)\n",
    "    train_losses.append(train_loss)\n",
    "    print(f'Train loss: {train_loss}')\n",
    "    \n",
    "    valid_loss = one_pass(model, valid_dl, optimizer, lossFun, backwards=False)\n",
    "    valid_losses.append(valid_loss)\n",
    "    print(f'Valid loss: {valid_loss}')\n",
    "    \n",
    "    train_acc = one_pass_acc(model, train_dl, len(train_ds))\n",
    "    valid_acc = one_pass_acc(model, valid_dl, len(valid_ds))\n",
    "    print(f'Train Acc: {train_acc}')\n",
    "    print(f'Valid Acc: {valid_acc}')"
   ]
  },
  {
   "cell_type": "code",
   "execution_count": 23,
   "metadata": {},
   "outputs": [],
   "source": [
    "model = MaskCNN()\n",
    "lossFun = nn.CrossEntropyLoss()\n",
    "optimizer = optim.Adam(model.parameters(), lr = 0.0001)"
   ]
  },
  {
   "cell_type": "code",
   "execution_count": 24,
   "metadata": {},
   "outputs": [
    {
     "name": "stdout",
     "output_type": "stream",
     "text": [
      "Epoch: 0\n"
     ]
    },
    {
     "name": "stderr",
     "output_type": "stream",
     "text": [
      "<ipython-input-4-bf271bb8d9ef>:29: UserWarning: To copy construct from a tensor, it is recommended to use sourceTensor.clone().detach() or sourceTensor.clone().detach().requires_grad_(True), rather than torch.tensor(sourceTensor).\n",
      "  img_transform = torch.tensor(img_transform / 255.).float()\n"
     ]
    },
    {
     "name": "stdout",
     "output_type": "stream",
     "text": [
      "Train loss: 0.6923742492993673\n",
      "Valid loss: 0.6941378808790638\n",
      "Train Acc: 0.5\n",
      "Valid Acc: 0.5\n",
      "Epoch: 1\n",
      "Train loss: 0.6795522620280584\n",
      "Valid loss: 0.6897075387739366\n",
      "Train Acc: 0.5516666666666667\n",
      "Valid Acc: 0.522875816993464\n",
      "Epoch: 2\n",
      "Train loss: 0.6296834796667099\n",
      "Valid loss: 0.6075480215011104\n",
      "Train Acc: 0.8183333333333334\n",
      "Valid Acc: 0.7156862745098039\n",
      "Epoch: 3\n",
      "Train loss: 0.44125572343667346\n",
      "Valid loss: 0.43265466728518087\n",
      "Train Acc: 0.8733333333333333\n",
      "Valid Acc: 0.7745098039215687\n",
      "Epoch: 4\n",
      "Train loss: 0.34054716130097706\n",
      "Valid loss: 0.39845923646803827\n",
      "Train Acc: 0.87\n",
      "Valid Acc: 0.8529411764705882\n",
      "Epoch: 5\n",
      "Train loss: 0.3251193776726723\n",
      "Valid loss: 0.3568485605139886\n",
      "Train Acc: 0.88\n",
      "Valid Acc: 0.8496732026143791\n",
      "Epoch: 6\n",
      "Train loss: 0.3429772636542718\n",
      "Valid loss: 0.3622585472560698\n",
      "Train Acc: 0.8883333333333333\n",
      "Valid Acc: 0.8529411764705882\n",
      "Epoch: 7\n",
      "Train loss: 0.30089092515408994\n",
      "Valid loss: 0.3509044868330802\n",
      "Train Acc: 0.8916666666666666\n",
      "Valid Acc: 0.8398692810457516\n",
      "Epoch: 8\n",
      "Train loss: 0.3076364892224471\n",
      "Valid loss: 0.3611692955657359\n",
      "Train Acc: 0.885\n",
      "Valid Acc: 0.8300653594771241\n",
      "Epoch: 9\n",
      "Train loss: 0.3015304946651061\n",
      "Valid loss: 0.3484326716392271\n",
      "Train Acc: 0.8916666666666666\n",
      "Valid Acc: 0.869281045751634\n",
      "Epoch: 10\n",
      "Train loss: 0.2937946711977323\n",
      "Valid loss: 0.32225633340497173\n",
      "Train Acc: 0.8983333333333333\n",
      "Valid Acc: 0.869281045751634\n",
      "Epoch: 11\n",
      "Train loss: 0.28845931285371385\n",
      "Valid loss: 0.32897645235061646\n",
      "Train Acc: 0.8966666666666667\n",
      "Valid Acc: 0.8496732026143791\n",
      "Epoch: 12\n",
      "Train loss: 0.28797724035878974\n",
      "Valid loss: 0.34039645738178687\n",
      "Train Acc: 0.8866666666666667\n",
      "Valid Acc: 0.8627450980392157\n",
      "Epoch: 13\n",
      "Train loss: 0.29466316333661474\n",
      "Valid loss: 0.3242852985858917\n",
      "Train Acc: 0.8883333333333333\n",
      "Valid Acc: 0.8594771241830066\n",
      "Epoch: 14\n",
      "Train loss: 0.277258346726497\n",
      "Valid loss: 0.3212995433038281\n",
      "Train Acc: 0.9\n",
      "Valid Acc: 0.869281045751634\n",
      "Epoch: 15\n",
      "Train loss: 0.27922545466572046\n",
      "Valid loss: 0.33228846495189973\n",
      "Train Acc: 0.9\n",
      "Valid Acc: 0.869281045751634\n",
      "Epoch: 16\n",
      "Train loss: 0.27399897451202077\n",
      "Valid loss: 0.3233574833120069\n",
      "Train Acc: 0.8983333333333333\n",
      "Valid Acc: 0.8660130718954249\n",
      "Epoch: 17\n",
      "Train loss: 0.2716761641204357\n",
      "Valid loss: 0.3047734138465697\n",
      "Train Acc: 0.9016666666666666\n",
      "Valid Acc: 0.8725490196078431\n",
      "Epoch: 18\n",
      "Train loss: 0.2720931116491556\n",
      "Valid loss: 0.32244872013407366\n",
      "Train Acc: 0.9016666666666666\n",
      "Valid Acc: 0.8660130718954249\n",
      "Epoch: 19\n",
      "Train loss: 0.26821971076230205\n",
      "Valid loss: 0.29252618286878834\n",
      "Train Acc: 0.9\n",
      "Valid Acc: 0.8888888888888888\n"
     ]
    }
   ],
   "source": [
    "# Train and Validate Model for 5 epochs\n",
    "train_losses = []\n",
    "valid_losses = []\n",
    "\n",
    "for epoch in range(20):\n",
    "    print(f'Epoch: {epoch}')\n",
    "    \n",
    "    train_loss = one_pass(model, train_dl, optimizer, lossFun)\n",
    "    train_losses.append(train_loss)\n",
    "    print(f'Train loss: {train_loss}')\n",
    "    \n",
    "    valid_loss = one_pass(model, valid_dl, optimizer, lossFun, backwards=False)\n",
    "    valid_losses.append(valid_loss)\n",
    "    print(f'Valid loss: {valid_loss}')\n",
    "    \n",
    "    train_acc = one_pass_acc(model, train_dl, len(train_ds))\n",
    "    valid_acc = one_pass_acc(model, valid_dl, len(valid_ds))\n",
    "    print(f'Train Acc: {train_acc}')\n",
    "    print(f'Valid Acc: {valid_acc}')"
   ]
  },
  {
   "cell_type": "markdown",
   "metadata": {},
   "source": [
    "# Set Architectures"
   ]
  },
  {
   "cell_type": "code",
   "execution_count": 58,
   "metadata": {},
   "outputs": [],
   "source": [
    "for img_path in info_df.image_path: \n",
    "    img = cv2.imread(img_path)\n",
    "    img = cv2.resize(img, (224, 224))\n",
    "    cv2.imwrite(img_path, img)"
   ]
  },
  {
   "cell_type": "code",
   "execution_count": 59,
   "metadata": {},
   "outputs": [],
   "source": [
    "class MaskDataset2(Dataset):\n",
    "    def __init__(self, df): \n",
    "        self.df = df \n",
    "        self.mask_dict = {'no mask': 0, 'mask': 1}\n",
    "        self.transformations = A.Compose([\n",
    "            # Spatial Transformations \n",
    "            A.RandomCrop(width=224, height=224),\n",
    "            A.HorizontalFlip(),\n",
    "            A.VerticalFlip(), \n",
    "            A.Rotate(limit=10, border_mode=cv2.BORDER_CONSTANT, value=0, p=0.75),\n",
    "            \n",
    "            # Pixel Transformations\n",
    "            A.RandomBrightnessContrast(p=0.5),\n",
    "            \n",
    "            # Adjust for image net\n",
    "            A.Normalize(mean=(0.485, 0.456, 0.406), std=(0.229, 0.224, 0.225)),\n",
    "            \n",
    "            ToTensorV2()   \n",
    "        ])\n",
    "        \n",
    "    def __len__(self):\n",
    "        return len(self.df)\n",
    "    \n",
    "    def __getitem__(self, idx):\n",
    "        row = self.df.iloc[idx]\n",
    "        \n",
    "        # Read in Image and Convert/Transform\n",
    "        img = cv2.imread(row.image_path)\n",
    "        img = cv2.cvtColor(img, cv2.COLOR_BGR2RGB)\n",
    "                \n",
    "        img_transform = self.transformations(image=img.astype(np.uint8))\n",
    "        img_transform = img_transform['image']\n",
    "        img_transform = torch.tensor(img_transform / 255.).float()\n",
    "        \n",
    "        label = torch.tensor(self.mask_dict[row.label])\n",
    "        \n",
    "        return img_transform, label\n",
    "        "
   ]
  },
  {
   "cell_type": "code",
   "execution_count": 60,
   "metadata": {},
   "outputs": [],
   "source": [
    "# Creating Training/Validation Datasets and DataLoaders \n",
    "train_df = info_df[info_df['dataset'] == 'train'].reset_index(drop=True)\n",
    "valid_df = info_df[info_df['dataset'] == 'valid'].reset_index(drop=True)\n",
    "\n",
    "train_ds = MaskDataset2(train_df)\n",
    "valid_ds = MaskDataset2(valid_df)\n",
    "\n",
    "train_dl = DataLoader(train_ds, batch_size=10, shuffle=True)\n",
    "valid_dl = DataLoader(valid_ds, batch_size=10, shuffle=True)"
   ]
  },
  {
   "cell_type": "markdown",
   "metadata": {},
   "source": [
    "## Mobilenet V2"
   ]
  },
  {
   "cell_type": "code",
   "execution_count": 107,
   "metadata": {},
   "outputs": [],
   "source": [
    "mobilenet = models.mobilenet_v2(pretrained=True)"
   ]
  },
  {
   "cell_type": "code",
   "execution_count": 108,
   "metadata": {},
   "outputs": [
    {
     "name": "stdout",
     "output_type": "stream",
     "text": [
      "Epoch:  0\n"
     ]
    },
    {
     "name": "stderr",
     "output_type": "stream",
     "text": [
      "<ipython-input-59-1d0efb379d8c>:33: UserWarning: To copy construct from a tensor, it is recommended to use sourceTensor.clone().detach() or sourceTensor.clone().detach().requires_grad_(True), rather than torch.tensor(sourceTensor).\n",
      "  img_transform = torch.tensor(img_transform / 255.).float()\n"
     ]
    },
    {
     "name": "stdout",
     "output_type": "stream",
     "text": [
      "Train loss:  0.9600940434585936\n",
      "Valid loss:  0.7016993876426451\n",
      "Train Acc:  0.41833333333333333\n",
      "Valid Acc:  0.5294117647058824\n",
      "Epoch:  1\n",
      "Train loss:  0.2321793935979561\n",
      "Valid loss:  0.10630453878172463\n",
      "Train Acc:  0.9733333333333334\n",
      "Valid Acc:  0.9673202614379085\n",
      "Epoch:  2\n",
      "Train loss:  0.09252960689482279\n",
      "Valid loss:  0.12845124815207637\n",
      "Train Acc:  0.985\n",
      "Valid Acc:  0.9575163398692811\n",
      "Epoch:  3\n",
      "Train loss:  0.08796732614282518\n",
      "Valid loss:  0.16850607673968038\n",
      "Train Acc:  0.985\n",
      "Valid Acc:  0.9281045751633987\n",
      "Epoch:  4\n",
      "Train loss:  0.10207973639286744\n",
      "Valid loss:  0.1766196717132604\n",
      "Train Acc:  0.98\n",
      "Valid Acc:  0.9509803921568627\n"
     ]
    }
   ],
   "source": [
    "optimizer = optim.Adam(mobilenet.parameters(), lr=0.001)\n",
    "lossFun = nn.CrossEntropyLoss()\n",
    "\n",
    "num_epochs = 5\n",
    "train_losses = []\n",
    "valid_losses = []\n",
    "\n",
    "for epoch in range(num_epochs):\n",
    "    print('Epoch: ', epoch)\n",
    "    \n",
    "    train_loss = one_pass(mobilenet, train_dl, optimizer, lossFun)\n",
    "    train_losses.append(train_loss)\n",
    "    print('Train loss: ', train_loss)\n",
    "    \n",
    "    valid_loss = one_pass(mobilenet, valid_dl, optimizer, lossFun, backwards=False)\n",
    "    valid_losses.append(valid_loss)\n",
    "    print('Valid loss: ', valid_loss)\n",
    "    \n",
    "    train_acc = one_pass_acc(mobilenet, train_dl, len(train_ds))\n",
    "    valid_acc = one_pass_acc(mobilenet, valid_dl, len(valid_ds))\n",
    "    print('Train Acc: ', train_acc)\n",
    "    print('Valid Acc: ', valid_acc)"
   ]
  },
  {
   "cell_type": "markdown",
   "metadata": {},
   "source": [
    "## Resnet 18"
   ]
  },
  {
   "cell_type": "code",
   "execution_count": 75,
   "metadata": {},
   "outputs": [
    {
     "name": "stderr",
     "output_type": "stream",
     "text": [
      "Downloading: \"https://download.pytorch.org/models/resnet18-5c106cde.pth\" to /Users/matthewhui/.cache/torch/hub/checkpoints/resnet18-5c106cde.pth\n"
     ]
    },
    {
     "data": {
      "application/vnd.jupyter.widget-view+json": {
       "model_id": "0bd248102a9b476b95f1fa42433ad5ff",
       "version_major": 2,
       "version_minor": 0
      },
      "text/plain": [
       "  0%|          | 0.00/44.7M [00:00<?, ?B/s]"
      ]
     },
     "metadata": {},
     "output_type": "display_data"
    },
    {
     "name": "stdout",
     "output_type": "stream",
     "text": [
      "Epoch:  0\n"
     ]
    },
    {
     "name": "stderr",
     "output_type": "stream",
     "text": [
      "<ipython-input-59-1d0efb379d8c>:33: UserWarning: To copy construct from a tensor, it is recommended to use sourceTensor.clone().detach() or sourceTensor.clone().detach().requires_grad_(True), rather than torch.tensor(sourceTensor).\n",
      "  img_transform = torch.tensor(img_transform / 255.).float()\n"
     ]
    },
    {
     "name": "stdout",
     "output_type": "stream",
     "text": [
      "Train loss:  1.1783461056028803\n",
      "Valid loss:  1.145024299621582\n",
      "Train Acc:  0.5\n",
      "Valid Acc:  0.5\n",
      "Epoch:  1\n",
      "Train loss:  0.24056351861606043\n",
      "Valid loss:  0.197960049064169\n",
      "Train Acc:  0.9583333333333334\n",
      "Valid Acc:  0.9281045751633987\n",
      "Epoch:  2\n",
      "Train loss:  0.19957242508729298\n",
      "Valid loss:  0.2961990890964385\n",
      "Train Acc:  0.935\n",
      "Valid Acc:  0.9052287581699346\n",
      "Epoch:  3\n",
      "Train loss:  0.1506693604712685\n",
      "Valid loss:  0.41737691892851747\n",
      "Train Acc:  0.95\n",
      "Valid Acc:  0.8627450980392157\n",
      "Epoch:  4\n",
      "Train loss:  0.20399837302199256\n",
      "Valid loss:  0.15709998638879868\n",
      "Train Acc:  0.9716666666666667\n",
      "Valid Acc:  0.9477124183006536\n"
     ]
    }
   ],
   "source": [
    "resnet = models.resnet18(pretrained=True)\n",
    "\n",
    "optimizer = optim.Adam(resnet.parameters(), lr=0.001)\n",
    "lossFun = nn.CrossEntropyLoss()\n",
    "\n",
    "num_epochs = 5\n",
    "train_losses = []\n",
    "valid_losses = []\n",
    "\n",
    "for epoch in range(num_epochs):\n",
    "    print('Epoch: ', epoch)\n",
    "    \n",
    "    train_loss = one_pass(resnet, train_dl, optimizer, lossFun)\n",
    "    train_losses.append(train_loss)\n",
    "    print('Train loss: ', train_loss)\n",
    "    \n",
    "    valid_loss = one_pass(resnet, valid_dl, optimizer, lossFun, backwards=False)\n",
    "    valid_losses.append(valid_loss)\n",
    "    print('Valid loss: ', valid_loss)\n",
    "    \n",
    "    train_acc = one_pass_acc(resnet, train_dl, len(train_ds))\n",
    "    valid_acc = one_pass_acc(resnet, valid_dl, len(valid_ds))\n",
    "    print('Train Acc: ', train_acc)\n",
    "    print('Valid Acc: ', valid_acc)"
   ]
  },
  {
   "cell_type": "markdown",
   "metadata": {},
   "source": [
    "## Final Model"
   ]
  },
  {
   "cell_type": "code",
   "execution_count": 77,
   "metadata": {},
   "outputs": [
    {
     "data": {
      "text/html": [
       "<div>\n",
       "<style scoped>\n",
       "    .dataframe tbody tr th:only-of-type {\n",
       "        vertical-align: middle;\n",
       "    }\n",
       "\n",
       "    .dataframe tbody tr th {\n",
       "        vertical-align: top;\n",
       "    }\n",
       "\n",
       "    .dataframe thead th {\n",
       "        text-align: right;\n",
       "    }\n",
       "</style>\n",
       "<table border=\"1\" class=\"dataframe\">\n",
       "  <thead>\n",
       "    <tr style=\"text-align: right;\">\n",
       "      <th></th>\n",
       "      <th>dataset</th>\n",
       "      <th>image_path</th>\n",
       "      <th>image</th>\n",
       "      <th>label</th>\n",
       "    </tr>\n",
       "  </thead>\n",
       "  <tbody>\n",
       "    <tr>\n",
       "      <th>906</th>\n",
       "      <td>test</td>\n",
       "      <td>/Users/matthewhui/classes/deep_learning/MSDS63...</td>\n",
       "      <td>2263.png</td>\n",
       "      <td>mask</td>\n",
       "    </tr>\n",
       "    <tr>\n",
       "      <th>907</th>\n",
       "      <td>test</td>\n",
       "      <td>/Users/matthewhui/classes/deep_learning/MSDS63...</td>\n",
       "      <td>2260.png</td>\n",
       "      <td>mask</td>\n",
       "    </tr>\n",
       "    <tr>\n",
       "      <th>908</th>\n",
       "      <td>test</td>\n",
       "      <td>/Users/matthewhui/classes/deep_learning/MSDS63...</td>\n",
       "      <td>2300.png</td>\n",
       "      <td>mask</td>\n",
       "    </tr>\n",
       "    <tr>\n",
       "      <th>909</th>\n",
       "      <td>test</td>\n",
       "      <td>/Users/matthewhui/classes/deep_learning/MSDS63...</td>\n",
       "      <td>2072.jpg</td>\n",
       "      <td>mask</td>\n",
       "    </tr>\n",
       "    <tr>\n",
       "      <th>910</th>\n",
       "      <td>test</td>\n",
       "      <td>/Users/matthewhui/classes/deep_learning/MSDS63...</td>\n",
       "      <td>2264.png</td>\n",
       "      <td>mask</td>\n",
       "    </tr>\n",
       "    <tr>\n",
       "      <th>...</th>\n",
       "      <td>...</td>\n",
       "      <td>...</td>\n",
       "      <td>...</td>\n",
       "      <td>...</td>\n",
       "    </tr>\n",
       "    <tr>\n",
       "      <th>1001</th>\n",
       "      <td>test</td>\n",
       "      <td>/Users/matthewhui/classes/deep_learning/MSDS63...</td>\n",
       "      <td>real_01033.jpg</td>\n",
       "      <td>no mask</td>\n",
       "    </tr>\n",
       "    <tr>\n",
       "      <th>1002</th>\n",
       "      <td>test</td>\n",
       "      <td>/Users/matthewhui/classes/deep_learning/MSDS63...</td>\n",
       "      <td>real_01034.jpg</td>\n",
       "      <td>no mask</td>\n",
       "    </tr>\n",
       "    <tr>\n",
       "      <th>1003</th>\n",
       "      <td>test</td>\n",
       "      <td>/Users/matthewhui/classes/deep_learning/MSDS63...</td>\n",
       "      <td>real_01035.jpg</td>\n",
       "      <td>no mask</td>\n",
       "    </tr>\n",
       "    <tr>\n",
       "      <th>1004</th>\n",
       "      <td>test</td>\n",
       "      <td>/Users/matthewhui/classes/deep_learning/MSDS63...</td>\n",
       "      <td>real_01037.jpg</td>\n",
       "      <td>no mask</td>\n",
       "    </tr>\n",
       "    <tr>\n",
       "      <th>1005</th>\n",
       "      <td>test</td>\n",
       "      <td>/Users/matthewhui/classes/deep_learning/MSDS63...</td>\n",
       "      <td>real_01036.jpg</td>\n",
       "      <td>no mask</td>\n",
       "    </tr>\n",
       "  </tbody>\n",
       "</table>\n",
       "<p>100 rows × 4 columns</p>\n",
       "</div>"
      ],
      "text/plain": [
       "     dataset                                         image_path  \\\n",
       "906     test  /Users/matthewhui/classes/deep_learning/MSDS63...   \n",
       "907     test  /Users/matthewhui/classes/deep_learning/MSDS63...   \n",
       "908     test  /Users/matthewhui/classes/deep_learning/MSDS63...   \n",
       "909     test  /Users/matthewhui/classes/deep_learning/MSDS63...   \n",
       "910     test  /Users/matthewhui/classes/deep_learning/MSDS63...   \n",
       "...      ...                                                ...   \n",
       "1001    test  /Users/matthewhui/classes/deep_learning/MSDS63...   \n",
       "1002    test  /Users/matthewhui/classes/deep_learning/MSDS63...   \n",
       "1003    test  /Users/matthewhui/classes/deep_learning/MSDS63...   \n",
       "1004    test  /Users/matthewhui/classes/deep_learning/MSDS63...   \n",
       "1005    test  /Users/matthewhui/classes/deep_learning/MSDS63...   \n",
       "\n",
       "               image    label  \n",
       "906         2263.png     mask  \n",
       "907         2260.png     mask  \n",
       "908         2300.png     mask  \n",
       "909         2072.jpg     mask  \n",
       "910         2264.png     mask  \n",
       "...              ...      ...  \n",
       "1001  real_01033.jpg  no mask  \n",
       "1002  real_01034.jpg  no mask  \n",
       "1003  real_01035.jpg  no mask  \n",
       "1004  real_01037.jpg  no mask  \n",
       "1005  real_01036.jpg  no mask  \n",
       "\n",
       "[100 rows x 4 columns]"
      ]
     },
     "execution_count": 77,
     "metadata": {},
     "output_type": "execute_result"
    }
   ],
   "source": [
    "info_df[info_df.dataset == 'test']"
   ]
  },
  {
   "cell_type": "code",
   "execution_count": 78,
   "metadata": {},
   "outputs": [],
   "source": [
    "# Creating Training/Validation Datasets and DataLoaders \n",
    "train_df2 = info_df[(info_df['dataset'] == 'train') | \n",
    "                   (info_df['dataset'] == 'valid') ].reset_index(drop=True)\n",
    "test_df = info_df[info_df['dataset'] == 'test'].reset_index(drop=True)\n",
    "\n",
    "train_ds2 = MaskDataset2(train_df2)\n",
    "test_ds = MaskDataset2(test_df)\n",
    "\n",
    "train_dl2 = DataLoader(train_ds2, batch_size=10, shuffle=True)\n",
    "test_dl = DataLoader(test_ds, batch_size=10)"
   ]
  },
  {
   "cell_type": "code",
   "execution_count": 79,
   "metadata": {},
   "outputs": [],
   "source": [
    "mobilenet = models.mobilenet_v2(pretrained=True)"
   ]
  },
  {
   "cell_type": "code",
   "execution_count": 109,
   "metadata": {},
   "outputs": [
    {
     "name": "stdout",
     "output_type": "stream",
     "text": [
      "----------------------------------------------------------------\n",
      "        Layer (type)               Output Shape         Param #\n",
      "================================================================\n",
      "            Conv2d-1         [-1, 32, 112, 112]             864\n",
      "       BatchNorm2d-2         [-1, 32, 112, 112]              64\n",
      "             ReLU6-3         [-1, 32, 112, 112]               0\n",
      "            Conv2d-4         [-1, 32, 112, 112]             288\n",
      "       BatchNorm2d-5         [-1, 32, 112, 112]              64\n",
      "             ReLU6-6         [-1, 32, 112, 112]               0\n",
      "            Conv2d-7         [-1, 16, 112, 112]             512\n",
      "       BatchNorm2d-8         [-1, 16, 112, 112]              32\n",
      "  InvertedResidual-9         [-1, 16, 112, 112]               0\n",
      "           Conv2d-10         [-1, 96, 112, 112]           1,536\n",
      "      BatchNorm2d-11         [-1, 96, 112, 112]             192\n",
      "            ReLU6-12         [-1, 96, 112, 112]               0\n",
      "           Conv2d-13           [-1, 96, 56, 56]             864\n",
      "      BatchNorm2d-14           [-1, 96, 56, 56]             192\n",
      "            ReLU6-15           [-1, 96, 56, 56]               0\n",
      "           Conv2d-16           [-1, 24, 56, 56]           2,304\n",
      "      BatchNorm2d-17           [-1, 24, 56, 56]              48\n",
      " InvertedResidual-18           [-1, 24, 56, 56]               0\n",
      "           Conv2d-19          [-1, 144, 56, 56]           3,456\n",
      "      BatchNorm2d-20          [-1, 144, 56, 56]             288\n",
      "            ReLU6-21          [-1, 144, 56, 56]               0\n",
      "           Conv2d-22          [-1, 144, 56, 56]           1,296\n",
      "      BatchNorm2d-23          [-1, 144, 56, 56]             288\n",
      "            ReLU6-24          [-1, 144, 56, 56]               0\n",
      "           Conv2d-25           [-1, 24, 56, 56]           3,456\n",
      "      BatchNorm2d-26           [-1, 24, 56, 56]              48\n",
      " InvertedResidual-27           [-1, 24, 56, 56]               0\n",
      "           Conv2d-28          [-1, 144, 56, 56]           3,456\n",
      "      BatchNorm2d-29          [-1, 144, 56, 56]             288\n",
      "            ReLU6-30          [-1, 144, 56, 56]               0\n",
      "           Conv2d-31          [-1, 144, 28, 28]           1,296\n",
      "      BatchNorm2d-32          [-1, 144, 28, 28]             288\n",
      "            ReLU6-33          [-1, 144, 28, 28]               0\n",
      "           Conv2d-34           [-1, 32, 28, 28]           4,608\n",
      "      BatchNorm2d-35           [-1, 32, 28, 28]              64\n",
      " InvertedResidual-36           [-1, 32, 28, 28]               0\n",
      "           Conv2d-37          [-1, 192, 28, 28]           6,144\n",
      "      BatchNorm2d-38          [-1, 192, 28, 28]             384\n",
      "            ReLU6-39          [-1, 192, 28, 28]               0\n",
      "           Conv2d-40          [-1, 192, 28, 28]           1,728\n",
      "      BatchNorm2d-41          [-1, 192, 28, 28]             384\n",
      "            ReLU6-42          [-1, 192, 28, 28]               0\n",
      "           Conv2d-43           [-1, 32, 28, 28]           6,144\n",
      "      BatchNorm2d-44           [-1, 32, 28, 28]              64\n",
      " InvertedResidual-45           [-1, 32, 28, 28]               0\n",
      "           Conv2d-46          [-1, 192, 28, 28]           6,144\n",
      "      BatchNorm2d-47          [-1, 192, 28, 28]             384\n",
      "            ReLU6-48          [-1, 192, 28, 28]               0\n",
      "           Conv2d-49          [-1, 192, 28, 28]           1,728\n",
      "      BatchNorm2d-50          [-1, 192, 28, 28]             384\n",
      "            ReLU6-51          [-1, 192, 28, 28]               0\n",
      "           Conv2d-52           [-1, 32, 28, 28]           6,144\n",
      "      BatchNorm2d-53           [-1, 32, 28, 28]              64\n",
      " InvertedResidual-54           [-1, 32, 28, 28]               0\n",
      "           Conv2d-55          [-1, 192, 28, 28]           6,144\n",
      "      BatchNorm2d-56          [-1, 192, 28, 28]             384\n",
      "            ReLU6-57          [-1, 192, 28, 28]               0\n",
      "           Conv2d-58          [-1, 192, 14, 14]           1,728\n",
      "      BatchNorm2d-59          [-1, 192, 14, 14]             384\n",
      "            ReLU6-60          [-1, 192, 14, 14]               0\n",
      "           Conv2d-61           [-1, 64, 14, 14]          12,288\n",
      "      BatchNorm2d-62           [-1, 64, 14, 14]             128\n",
      " InvertedResidual-63           [-1, 64, 14, 14]               0\n",
      "           Conv2d-64          [-1, 384, 14, 14]          24,576\n",
      "      BatchNorm2d-65          [-1, 384, 14, 14]             768\n",
      "            ReLU6-66          [-1, 384, 14, 14]               0\n",
      "           Conv2d-67          [-1, 384, 14, 14]           3,456\n",
      "      BatchNorm2d-68          [-1, 384, 14, 14]             768\n",
      "            ReLU6-69          [-1, 384, 14, 14]               0\n",
      "           Conv2d-70           [-1, 64, 14, 14]          24,576\n",
      "      BatchNorm2d-71           [-1, 64, 14, 14]             128\n",
      " InvertedResidual-72           [-1, 64, 14, 14]               0\n",
      "           Conv2d-73          [-1, 384, 14, 14]          24,576\n",
      "      BatchNorm2d-74          [-1, 384, 14, 14]             768\n",
      "            ReLU6-75          [-1, 384, 14, 14]               0\n",
      "           Conv2d-76          [-1, 384, 14, 14]           3,456\n",
      "      BatchNorm2d-77          [-1, 384, 14, 14]             768\n",
      "            ReLU6-78          [-1, 384, 14, 14]               0\n",
      "           Conv2d-79           [-1, 64, 14, 14]          24,576\n",
      "      BatchNorm2d-80           [-1, 64, 14, 14]             128\n",
      " InvertedResidual-81           [-1, 64, 14, 14]               0\n",
      "           Conv2d-82          [-1, 384, 14, 14]          24,576\n",
      "      BatchNorm2d-83          [-1, 384, 14, 14]             768\n",
      "            ReLU6-84          [-1, 384, 14, 14]               0\n",
      "           Conv2d-85          [-1, 384, 14, 14]           3,456\n",
      "      BatchNorm2d-86          [-1, 384, 14, 14]             768\n",
      "            ReLU6-87          [-1, 384, 14, 14]               0\n",
      "           Conv2d-88           [-1, 64, 14, 14]          24,576\n",
      "      BatchNorm2d-89           [-1, 64, 14, 14]             128\n",
      " InvertedResidual-90           [-1, 64, 14, 14]               0\n",
      "           Conv2d-91          [-1, 384, 14, 14]          24,576\n",
      "      BatchNorm2d-92          [-1, 384, 14, 14]             768\n",
      "            ReLU6-93          [-1, 384, 14, 14]               0\n",
      "           Conv2d-94          [-1, 384, 14, 14]           3,456\n",
      "      BatchNorm2d-95          [-1, 384, 14, 14]             768\n",
      "            ReLU6-96          [-1, 384, 14, 14]               0\n",
      "           Conv2d-97           [-1, 96, 14, 14]          36,864\n",
      "      BatchNorm2d-98           [-1, 96, 14, 14]             192\n",
      " InvertedResidual-99           [-1, 96, 14, 14]               0\n",
      "          Conv2d-100          [-1, 576, 14, 14]          55,296\n",
      "     BatchNorm2d-101          [-1, 576, 14, 14]           1,152\n",
      "           ReLU6-102          [-1, 576, 14, 14]               0\n",
      "          Conv2d-103          [-1, 576, 14, 14]           5,184\n",
      "     BatchNorm2d-104          [-1, 576, 14, 14]           1,152\n",
      "           ReLU6-105          [-1, 576, 14, 14]               0\n",
      "          Conv2d-106           [-1, 96, 14, 14]          55,296\n",
      "     BatchNorm2d-107           [-1, 96, 14, 14]             192\n",
      "InvertedResidual-108           [-1, 96, 14, 14]               0\n",
      "          Conv2d-109          [-1, 576, 14, 14]          55,296\n",
      "     BatchNorm2d-110          [-1, 576, 14, 14]           1,152\n",
      "           ReLU6-111          [-1, 576, 14, 14]               0\n",
      "          Conv2d-112          [-1, 576, 14, 14]           5,184\n",
      "     BatchNorm2d-113          [-1, 576, 14, 14]           1,152\n",
      "           ReLU6-114          [-1, 576, 14, 14]               0\n",
      "          Conv2d-115           [-1, 96, 14, 14]          55,296\n",
      "     BatchNorm2d-116           [-1, 96, 14, 14]             192\n",
      "InvertedResidual-117           [-1, 96, 14, 14]               0\n",
      "          Conv2d-118          [-1, 576, 14, 14]          55,296\n",
      "     BatchNorm2d-119          [-1, 576, 14, 14]           1,152\n",
      "           ReLU6-120          [-1, 576, 14, 14]               0\n",
      "          Conv2d-121            [-1, 576, 7, 7]           5,184\n",
      "     BatchNorm2d-122            [-1, 576, 7, 7]           1,152\n",
      "           ReLU6-123            [-1, 576, 7, 7]               0\n",
      "          Conv2d-124            [-1, 160, 7, 7]          92,160\n",
      "     BatchNorm2d-125            [-1, 160, 7, 7]             320\n",
      "InvertedResidual-126            [-1, 160, 7, 7]               0\n",
      "          Conv2d-127            [-1, 960, 7, 7]         153,600\n",
      "     BatchNorm2d-128            [-1, 960, 7, 7]           1,920\n",
      "           ReLU6-129            [-1, 960, 7, 7]               0\n",
      "          Conv2d-130            [-1, 960, 7, 7]           8,640\n",
      "     BatchNorm2d-131            [-1, 960, 7, 7]           1,920\n",
      "           ReLU6-132            [-1, 960, 7, 7]               0\n",
      "          Conv2d-133            [-1, 160, 7, 7]         153,600\n",
      "     BatchNorm2d-134            [-1, 160, 7, 7]             320\n",
      "InvertedResidual-135            [-1, 160, 7, 7]               0\n",
      "          Conv2d-136            [-1, 960, 7, 7]         153,600\n",
      "     BatchNorm2d-137            [-1, 960, 7, 7]           1,920\n",
      "           ReLU6-138            [-1, 960, 7, 7]               0\n",
      "          Conv2d-139            [-1, 960, 7, 7]           8,640\n",
      "     BatchNorm2d-140            [-1, 960, 7, 7]           1,920\n",
      "           ReLU6-141            [-1, 960, 7, 7]               0\n",
      "          Conv2d-142            [-1, 160, 7, 7]         153,600\n",
      "     BatchNorm2d-143            [-1, 160, 7, 7]             320\n",
      "InvertedResidual-144            [-1, 160, 7, 7]               0\n",
      "          Conv2d-145            [-1, 960, 7, 7]         153,600\n",
      "     BatchNorm2d-146            [-1, 960, 7, 7]           1,920\n",
      "           ReLU6-147            [-1, 960, 7, 7]               0\n",
      "          Conv2d-148            [-1, 960, 7, 7]           8,640\n",
      "     BatchNorm2d-149            [-1, 960, 7, 7]           1,920\n",
      "           ReLU6-150            [-1, 960, 7, 7]               0\n",
      "          Conv2d-151            [-1, 320, 7, 7]         307,200\n",
      "     BatchNorm2d-152            [-1, 320, 7, 7]             640\n",
      "InvertedResidual-153            [-1, 320, 7, 7]               0\n",
      "          Conv2d-154           [-1, 1280, 7, 7]         409,600\n",
      "     BatchNorm2d-155           [-1, 1280, 7, 7]           2,560\n",
      "           ReLU6-156           [-1, 1280, 7, 7]               0\n",
      "         Dropout-157                 [-1, 1280]               0\n",
      "          Linear-158                 [-1, 1000]       1,281,000\n",
      "================================================================\n",
      "Total params: 3,504,872\n",
      "Trainable params: 3,504,872\n",
      "Non-trainable params: 0\n",
      "----------------------------------------------------------------\n",
      "Input size (MB): 0.57\n",
      "Forward/backward pass size (MB): 152.87\n",
      "Params size (MB): 13.37\n",
      "Estimated Total Size (MB): 166.81\n",
      "----------------------------------------------------------------\n"
     ]
    }
   ],
   "source": [
    "summary(mobilenet, input_size = (3, 224, 224), device='cpu')"
   ]
  },
  {
   "cell_type": "code",
   "execution_count": 80,
   "metadata": {},
   "outputs": [
    {
     "name": "stdout",
     "output_type": "stream",
     "text": [
      "Epoch:  0\n"
     ]
    },
    {
     "name": "stderr",
     "output_type": "stream",
     "text": [
      "<ipython-input-59-1d0efb379d8c>:33: UserWarning: To copy construct from a tensor, it is recommended to use sourceTensor.clone().detach() or sourceTensor.clone().detach().requires_grad_(True), rather than torch.tensor(sourceTensor).\n",
      "  img_transform = torch.tensor(img_transform / 255.).float()\n"
     ]
    },
    {
     "name": "stdout",
     "output_type": "stream",
     "text": [
      "Train loss:  1.0515570561634378\n",
      "Epoch:  1\n",
      "Train loss:  0.18418471802724526\n",
      "Epoch:  2\n",
      "Train loss:  0.20547751074967285\n"
     ]
    }
   ],
   "source": [
    "optimizer = optim.Adam(mobilenet.parameters(), lr=0.001)\n",
    "lossFun = nn.CrossEntropyLoss()\n",
    "\n",
    "num_epochs = 3\n",
    "\n",
    "for epoch in range(num_epochs):\n",
    "    print('Epoch: ', epoch)\n",
    "    \n",
    "    train_loss = one_pass(mobilenet, train_dl, optimizer, lossFun)\n",
    "    print('Train loss: ', train_loss)"
   ]
  },
  {
   "cell_type": "code",
   "execution_count": 93,
   "metadata": {},
   "outputs": [
    {
     "name": "stderr",
     "output_type": "stream",
     "text": [
      "<ipython-input-59-1d0efb379d8c>:33: UserWarning: To copy construct from a tensor, it is recommended to use sourceTensor.clone().detach() or sourceTensor.clone().detach().requires_grad_(True), rather than torch.tensor(sourceTensor).\n",
      "  img_transform = torch.tensor(img_transform / 255.).float()\n"
     ]
    }
   ],
   "source": [
    "mobilenet.eval()\n",
    "\n",
    "softmax = nn.LogSoftmax(dim=1)\n",
    "\n",
    "actual = []\n",
    "preds = []\n",
    "\n",
    "for x, y in test_dl:\n",
    "    y_pred = softmax(mobilenet(x))\n",
    "    y_pred = torch.argmax(y_pred, dim=1)\n",
    "    \n",
    "    actual += y.flatten().tolist()\n",
    "    preds += y_pred.flatten().tolist()"
   ]
  },
  {
   "cell_type": "markdown",
   "metadata": {},
   "source": [
    "## Wrong Classifications"
   ]
  },
  {
   "cell_type": "code",
   "execution_count": 99,
   "metadata": {},
   "outputs": [
    {
     "name": "stdout",
     "output_type": "stream",
     "text": [
      "55\n",
      "89\n"
     ]
    }
   ],
   "source": [
    "wrong_indices = []\n",
    "\n",
    "for i in range(len(actual)):\n",
    "    if actual[i] != preds[i]:\n",
    "        print(i)\n",
    "        wrong_indices.append(i)"
   ]
  },
  {
   "cell_type": "code",
   "execution_count": 95,
   "metadata": {},
   "outputs": [
    {
     "data": {
      "text/plain": [
       "array([[48,  2],\n",
       "       [ 0, 50]])"
      ]
     },
     "execution_count": 95,
     "metadata": {},
     "output_type": "execute_result"
    }
   ],
   "source": [
    "from sklearn.metrics import confusion_matrix\n",
    "\n",
    "confusion_matrix(actual, preds)"
   ]
  },
  {
   "cell_type": "code",
   "execution_count": 100,
   "metadata": {},
   "outputs": [],
   "source": [
    "wrong = test_df.iloc[wrong_indices]"
   ]
  },
  {
   "cell_type": "code",
   "execution_count": 101,
   "metadata": {},
   "outputs": [
    {
     "data": {
      "text/html": [
       "<div>\n",
       "<style scoped>\n",
       "    .dataframe tbody tr th:only-of-type {\n",
       "        vertical-align: middle;\n",
       "    }\n",
       "\n",
       "    .dataframe tbody tr th {\n",
       "        vertical-align: top;\n",
       "    }\n",
       "\n",
       "    .dataframe thead th {\n",
       "        text-align: right;\n",
       "    }\n",
       "</style>\n",
       "<table border=\"1\" class=\"dataframe\">\n",
       "  <thead>\n",
       "    <tr style=\"text-align: right;\">\n",
       "      <th></th>\n",
       "      <th>dataset</th>\n",
       "      <th>image_path</th>\n",
       "      <th>image</th>\n",
       "      <th>label</th>\n",
       "    </tr>\n",
       "  </thead>\n",
       "  <tbody>\n",
       "    <tr>\n",
       "      <th>55</th>\n",
       "      <td>test</td>\n",
       "      <td>/Users/matthewhui/classes/deep_learning/MSDS63...</td>\n",
       "      <td>real_01071.jpg</td>\n",
       "      <td>no mask</td>\n",
       "    </tr>\n",
       "    <tr>\n",
       "      <th>89</th>\n",
       "      <td>test</td>\n",
       "      <td>/Users/matthewhui/classes/deep_learning/MSDS63...</td>\n",
       "      <td>real_01054.jpg</td>\n",
       "      <td>no mask</td>\n",
       "    </tr>\n",
       "  </tbody>\n",
       "</table>\n",
       "</div>"
      ],
      "text/plain": [
       "   dataset                                         image_path           image  \\\n",
       "55    test  /Users/matthewhui/classes/deep_learning/MSDS63...  real_01071.jpg   \n",
       "89    test  /Users/matthewhui/classes/deep_learning/MSDS63...  real_01054.jpg   \n",
       "\n",
       "      label  \n",
       "55  no mask  \n",
       "89  no mask  "
      ]
     },
     "execution_count": 101,
     "metadata": {},
     "output_type": "execute_result"
    }
   ],
   "source": [
    "wrong"
   ]
  },
  {
   "cell_type": "code",
   "execution_count": 106,
   "metadata": {},
   "outputs": [
    {
     "data": {
      "image/png": "[encoded data removed]",
      "text/plain": [
       "<Figure size 720x720 with 2 Axes>"
      ]
     },
     "metadata": {
      "needs_background": "light"
     },
     "output_type": "display_data"
    }
   ],
   "source": [
    "import matplotlib.image as mpimg\n",
    "\n",
    "fig, axes = plt.subplots(nrows = len(wrong), ncols = 1, figsize=(10,10))\n",
    "\n",
    "for i, loc in enumerate(wrong.image_path):\n",
    "    img = mpimg.imread(loc)\n",
    "    axes[i].imshow(img)"
   ]
  },
  {
   "cell_type": "code",
   "execution_count": null,
   "metadata": {},
   "outputs": [],
   "source": []
  }
 ],
 "metadata": {
  "kernelspec": {
   "display_name": "Python 3",
   "language": "python",
   "name": "python3"
  },
  "language_info": {
   "codemirror_mode": {
    "name": "ipython",
    "version": 3
   },
   "file_extension": ".py",
   "mimetype": "text/x-python",
   "name": "python",
   "nbconvert_exporter": "python",
   "pygments_lexer": "ipython3",
   "version": "3.8.2"
  }
 },
 "nbformat": 4,
 "nbformat_minor": 4
}
