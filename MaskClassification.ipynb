{
 "cells": [
  {
   "cell_type": "markdown",
   "metadata": {},
   "source": [
    "# MSDS 631 Final Project\n",
    "## Mask Classification"
   ]
  },
  {
   "cell_type": "code",
   "execution_count": 1,
   "metadata": {},
   "outputs": [],
   "source": [
    "import os\n",
    "import cv2\n",
    "import time\n",
    "import numpy as np\n",
    "import pandas as pd\n",
    "import matplotlib.pyplot as plt\n",
    "\n",
    "import torch\n",
    "from torchsummary import summary\n",
    "from torch.utils.data import Dataset, DataLoader\n",
    "import torch.nn as nn\n",
    "import torch.optim as optim\n",
    "\n",
    "# data augmentation\n",
    "import albumentations as A\n",
    "from albumentations.pytorch import ToTensorV2"
   ]
  },
  {
   "cell_type": "markdown",
   "metadata": {},
   "source": [
    "### Creating data info dataframe"
   ]
  },
  {
   "cell_type": "code",
   "execution_count": 2,
   "metadata": {},
   "outputs": [
    {
     "data": {
      "text/html": [
       "<div>\n",
       "<style scoped>\n",
       "    .dataframe tbody tr th:only-of-type {\n",
       "        vertical-align: middle;\n",
       "    }\n",
       "\n",
       "    .dataframe tbody tr th {\n",
       "        vertical-align: top;\n",
       "    }\n",
       "\n",
       "    .dataframe thead th {\n",
       "        text-align: right;\n",
       "    }\n",
       "</style>\n",
       "<table border=\"1\" class=\"dataframe\">\n",
       "  <thead>\n",
       "    <tr style=\"text-align: right;\">\n",
       "      <th></th>\n",
       "      <th>dataset</th>\n",
       "      <th>image_path</th>\n",
       "      <th>image</th>\n",
       "      <th>label</th>\n",
       "    </tr>\n",
       "  </thead>\n",
       "  <tbody>\n",
       "    <tr>\n",
       "      <th>0</th>\n",
       "      <td>train</td>\n",
       "      <td>/Users/juyeki/Documents/USF_MSDS/SummerModule2...</td>\n",
       "      <td>1409.jpg</td>\n",
       "      <td>mask</td>\n",
       "    </tr>\n",
       "    <tr>\n",
       "      <th>1</th>\n",
       "      <td>train</td>\n",
       "      <td>/Users/juyeki/Documents/USF_MSDS/SummerModule2...</td>\n",
       "      <td>0515.png</td>\n",
       "      <td>mask</td>\n",
       "    </tr>\n",
       "    <tr>\n",
       "      <th>2</th>\n",
       "      <td>train</td>\n",
       "      <td>/Users/juyeki/Documents/USF_MSDS/SummerModule2...</td>\n",
       "      <td>0930.jpg</td>\n",
       "      <td>mask</td>\n",
       "    </tr>\n",
       "    <tr>\n",
       "      <th>3</th>\n",
       "      <td>train</td>\n",
       "      <td>/Users/juyeki/Documents/USF_MSDS/SummerModule2...</td>\n",
       "      <td>0273.jpg</td>\n",
       "      <td>mask</td>\n",
       "    </tr>\n",
       "    <tr>\n",
       "      <th>4</th>\n",
       "      <td>train</td>\n",
       "      <td>/Users/juyeki/Documents/USF_MSDS/SummerModule2...</td>\n",
       "      <td>0267.jpg</td>\n",
       "      <td>mask</td>\n",
       "    </tr>\n",
       "  </tbody>\n",
       "</table>\n",
       "</div>"
      ],
      "text/plain": [
       "  dataset                                         image_path     image label\n",
       "0   train  /Users/juyeki/Documents/USF_MSDS/SummerModule2...  1409.jpg  mask\n",
       "1   train  /Users/juyeki/Documents/USF_MSDS/SummerModule2...  0515.png  mask\n",
       "2   train  /Users/juyeki/Documents/USF_MSDS/SummerModule2...  0930.jpg  mask\n",
       "3   train  /Users/juyeki/Documents/USF_MSDS/SummerModule2...  0273.jpg  mask\n",
       "4   train  /Users/juyeki/Documents/USF_MSDS/SummerModule2...  0267.jpg  mask"
      ]
     },
     "execution_count": 2,
     "metadata": {},
     "output_type": "execute_result"
    }
   ],
   "source": [
    "path = '/Users/juyeki/Documents/USF_MSDS/SummerModule2/631_DeepLearning/MSDS631_FinalProject/data'\n",
    "\n",
    "def get_info(path, info, label, dataset):\n",
    "    \"\"\"Get info of all images in specified path\"\"\"\n",
    "    for img in os.listdir(path):\n",
    "        row = {} \n",
    "        row['dataset'] = dataset\n",
    "        row['image_path'] = f'{path}/{img}'\n",
    "        row['image'] = img\n",
    "        row['label'] = label\n",
    "        info.append(row)\n",
    "    return info \n",
    "\n",
    "info = [] \n",
    "info = get_info(f'{path}/Train/Mask', info, 'mask', 'train')\n",
    "info = get_info(f'{path}/Train/Non Mask', info, 'no mask', 'train')\n",
    "info = get_info(f'{path}/Validation/Mask', info, 'mask', 'valid')\n",
    "info = get_info(f'{path}/Validation/Non Mask', info, 'no mask', 'valid')\n",
    "info = get_info(f'{path}/Test/Mask', info, 'mask', 'test')\n",
    "info = get_info(f'{path}/Test/Non Mask', info, 'no mask', 'test')\n",
    "info_df = pd.DataFrame(info)\n",
    "# Save dataframe\n",
    "info_df.to_csv('/Users/juyeki/Documents/USF_MSDS/SummerModule2/631_DeepLearning/MSDS631_FinalProject/data_info.csv', index=False)\n",
    "info_df.head()"
   ]
  },
  {
   "cell_type": "markdown",
   "metadata": {},
   "source": [
    "### Preprocess Images (Resize)"
   ]
  },
  {
   "cell_type": "code",
   "execution_count": 3,
   "metadata": {},
   "outputs": [],
   "source": [
    "for img_path in info_df.image_path: \n",
    "    img = cv2.imread(img_path)\n",
    "    img = cv2.resize(img, (128, 128))\n",
    "    cv2.imwrite(img_path, img)"
   ]
  },
  {
   "cell_type": "markdown",
   "metadata": {},
   "source": [
    "### Creating Dataset Class"
   ]
  },
  {
   "cell_type": "code",
   "execution_count": 4,
   "metadata": {},
   "outputs": [],
   "source": [
    "class MaskDataset(Dataset):\n",
    "    def __init__(self, df): \n",
    "        self.df = df \n",
    "        self.mask_dict = {'no mask': 0, 'mask': 1}\n",
    "        self.transformations = A.Compose([\n",
    "            # Spatial Transformations \n",
    "            A.HorizontalFlip(),\n",
    "            A.VerticalFlip(), \n",
    "            A.Rotate(limit=10, border_mode=cv2.BORDER_CONSTANT, value=0, p=0.75),\n",
    "            \n",
    "            # Pixel Transformations\n",
    "            A.RandomBrightnessContrast(p=0.5),\n",
    "            \n",
    "            ToTensorV2()   \n",
    "        ])\n",
    "        \n",
    "    def __len__(self):\n",
    "        return len(self.df)\n",
    "    \n",
    "    def __getitem__(self, idx):\n",
    "        row = self.df.iloc[idx]\n",
    "        \n",
    "        # Read in Image and Convert/Transform\n",
    "        img = cv2.imread(row.image_path)\n",
    "        img = cv2.cvtColor(img, cv2.COLOR_BGR2RGB)\n",
    "                \n",
    "        img_transform = self.transformations(image=img.astype(np.uint8))\n",
    "        img_transform = img_transform['image']\n",
    "        img_transform = torch.tensor(img_transform / 255.).float()\n",
    "        \n",
    "        label = torch.tensor(self.mask_dict[row.label])\n",
    "        \n",
    "        return img_transform, label\n",
    "        "
   ]
  },
  {
   "cell_type": "code",
   "execution_count": 5,
   "metadata": {},
   "outputs": [],
   "source": [
    "# Creating Training/Validation Datasets and DataLoaders \n",
    "train_df = info_df[info_df['dataset'] == 'train'].reset_index(drop=True)\n",
    "valid_df = info_df[info_df['dataset'] == 'valid'].reset_index(drop=True)\n",
    "\n",
    "train_ds = MaskDataset(train_df)\n",
    "valid_ds = MaskDataset(valid_df)\n",
    "\n",
    "train_dl = DataLoader(train_ds, batch_size=10, shuffle=True)\n",
    "valid_dl = DataLoader(valid_ds, batch_size=10, shuffle=True)"
   ]
  },
  {
   "cell_type": "code",
   "execution_count": 6,
   "metadata": {},
   "outputs": [
    {
     "name": "stdout",
     "output_type": "stream",
     "text": [
      "Dataset image dimensions: torch.Size([3, 128, 128])\n",
      "After transformation image dimensions: (128, 128, 3)\n"
     ]
    },
    {
     "name": "stderr",
     "output_type": "stream",
     "text": [
      "<ipython-input-4-bf271bb8d9ef>:29: UserWarning: To copy construct from a tensor, it is recommended to use sourceTensor.clone().detach() or sourceTensor.clone().detach().requires_grad_(True), rather than torch.tensor(sourceTensor).\n",
      "  img_transform = torch.tensor(img_transform / 255.).float()\n"
     ]
    },
    {
     "data": {
      "text/plain": [
       "(-0.5, 127.5, 127.5, -0.5)"
      ]
     },
     "execution_count": 6,
     "metadata": {},
     "output_type": "execute_result"
    },
    {
     "data": {
      "image/png": "[encoded data removed]",
      "text/plain": [
       "<Figure size 432x288 with 1 Axes>"
      ]
     },
     "metadata": {
      "needs_background": "light"
     },
     "output_type": "display_data"
    }
   ],
   "source": [
    "# Test the Dataset class is working properly \n",
    "img, label = next(iter(train_ds))\n",
    "print(f'Dataset image dimensions: {img.shape}')\n",
    "img = np.transpose(np.array(img), (1,2,0))\n",
    "print(f'After transformation image dimensions: {img.shape}')\n",
    "plt.imshow(img)\n",
    "plt.title(label) # 1: mask, 0: no mask\n",
    "plt.axis('off')"
   ]
  },
  {
   "cell_type": "markdown",
   "metadata": {},
   "source": [
    "### Fitting Models\n",
    "* CNN (from Scratch) \n",
    "* AlexNet (frozen / finetuned)\n",
    "* ResNet "
   ]
  },
  {
   "cell_type": "code",
   "execution_count": 7,
   "metadata": {},
   "outputs": [],
   "source": [
    "def one_pass(model, dataloader, optimizer, lossFun, backwards=True, print_loss=False):\n",
    "    \n",
    "    if backwards == True:\n",
    "        model.train()\n",
    "    else:\n",
    "        model.eval()\n",
    "    \n",
    "    total_loss = 0.0\n",
    "    for x, y in dataloader:\n",
    "        \n",
    "        y_pred = model(x)\n",
    "        loss = lossFun(y_pred, y)\n",
    "        total_loss += loss.item()\n",
    "        \n",
    "        if backwards == True:\n",
    "            optimizer.zero_grad()\n",
    "            loss.backward()\n",
    "            optimizer.step()\n",
    "    avg_loss = total_loss / len(dataloader)\n",
    "    \n",
    "    if print_loss == True:\n",
    "        print(avg_loss)\n",
    "    \n",
    "    return avg_loss\n",
    "\n",
    "def one_pass_acc(model, dataloader, num_points):\n",
    "    model.eval()\n",
    "    total_incorrect = 0\n",
    "    \n",
    "    softmax = nn.LogSoftmax(dim=1)\n",
    "    \n",
    "    for x, y in dataloader:\n",
    "        y_pred = softmax(model(x))\n",
    "        y_pred = torch.argmax(y_pred, dim=1)\n",
    "        \n",
    "        total_incorrect += torch.count_nonzero(y - y_pred).item()\n",
    "        \n",
    "    percent_wrong = total_incorrect / num_points\n",
    "    return 1 - percent_wrong"
   ]
  },
  {
   "cell_type": "markdown",
   "metadata": {},
   "source": [
    "#### Convolutional Neural Network (CNN)"
   ]
  },
  {
   "cell_type": "code",
   "execution_count": 8,
   "metadata": {},
   "outputs": [],
   "source": [
    "class MaskCNN(nn.Module):\n",
    "    def __init__(self):\n",
    "        super().__init__()\n",
    "        self.conv1 = nn.Conv2d(in_channels=3, out_channels=8, kernel_size=3, padding=1)\n",
    "        self.conv2 = nn.Conv2d(in_channels=8, out_channels=16, kernel_size=3, padding=1)\n",
    "        self.conv3 = nn.Conv2d(in_channels=16, out_channels=32, kernel_size=3, padding=1)\n",
    "        self.conv4 = nn.Conv2d(in_channels=32, out_channels=64, kernel_size=3, padding=1)\n",
    "        \n",
    "        self.linear1 = nn.Linear(4096, 100)\n",
    "        self.linear2 = nn.Linear(100, 2) # 2 output classes\n",
    "        \n",
    "        self.pool = nn.MaxPool2d(kernel_size=2)\n",
    "        \n",
    "        self.relu = nn.ReLU()\n",
    "        \n",
    "        self.unroll = nn.Flatten()\n",
    "        \n",
    "    def forward(self, x):\n",
    "        x = self.conv1(x)\n",
    "        x = self.relu(x)\n",
    "        x = self.pool(x)\n",
    "        \n",
    "        x = self.conv2(x)\n",
    "        x = self.relu(x)\n",
    "        x = self.pool(x)\n",
    "        \n",
    "        x = self.conv3(x)\n",
    "        x = self.relu(x)\n",
    "        x = self.pool(x)\n",
    "        \n",
    "        x = self.conv4(x)\n",
    "        x = self.relu(x)\n",
    "        x = self.pool(x)\n",
    "        \n",
    "        x = self.relu(self.linear1(self.unroll(x)))\n",
    "        x = self.linear2(x)\n",
    "        return x"
   ]
  },
  {
   "cell_type": "code",
   "execution_count": 9,
   "metadata": {},
   "outputs": [],
   "source": [
    "model = MaskCNN()\n",
    "lossFun = nn.CrossEntropyLoss()\n",
    "optimizer = optim.Adam(model.parameters(), lr = 0.001)"
   ]
  },
  {
   "cell_type": "code",
   "execution_count": null,
   "metadata": {},
   "outputs": [],
   "source": [
    "summary(model, input_size = (3, 128, 128), device='cpu')"
   ]
  },
  {
   "cell_type": "code",
   "execution_count": null,
   "metadata": {},
   "outputs": [],
   "source": [
    "# Train and Validate Model for 5 epochs\n",
    "train_losses = []\n",
    "valid_losses = []\n",
    "\n",
    "for epoch in range(5):\n",
    "    print(f'Epoch: {epoch}')\n",
    "    \n",
    "    train_loss = one_pass(model, train_dl, optimizer, lossFun)\n",
    "    train_losses.append(train_loss)\n",
    "    print('Train loss: {train_loss}')\n",
    "    \n",
    "    valid_loss = one_pass(model, valid_dl, optimizer, lossFun, backwards=False)\n",
    "    valid_losses.append(valid_loss)\n",
    "    print('Valid loss: {valid_loss}')\n",
    "    \n",
    "    train_acc = one_pass_acc(model, train_dl, len(train_ds))\n",
    "    valid_acc = one_pass_acc(model, valid_dl, len(valid_ds))\n",
    "    print('Train Acc: {train_acc}')\n",
    "    print('Valid Acc: {valid_acc}')"
   ]
  },
  {
   "cell_type": "code",
   "execution_count": null,
   "metadata": {},
   "outputs": [],
   "source": []
  },
  {
   "cell_type": "code",
   "execution_count": null,
   "metadata": {},
   "outputs": [],
   "source": []
  }
 ],
 "metadata": {
  "kernelspec": {
   "display_name": "Python 3",
   "language": "python",
   "name": "python3"
  },
  "language_info": {
   "codemirror_mode": {
    "name": "ipython",
    "version": 3
   },
   "file_extension": ".py",
   "mimetype": "text/x-python",
   "name": "python",
   "nbconvert_exporter": "python",
   "pygments_lexer": "ipython3",
   "version": "3.8.3"
  }
 },
 "nbformat": 4,
 "nbformat_minor": 4
}
